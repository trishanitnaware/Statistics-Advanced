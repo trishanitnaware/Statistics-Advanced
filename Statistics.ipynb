{
  "nbformat": 4,
  "nbformat_minor": 0,
  "metadata": {
    "colab": {
      "provenance": []
    },
    "kernelspec": {
      "name": "python3",
      "display_name": "Python 3"
    },
    "language_info": {
      "name": "python"
    }
  },
  "cells": [
    {
      "cell_type": "markdown",
      "source": [
        "#Statistics\n"
      ],
      "metadata": {
        "id": "pCflQ4yl4m7R"
      }
    },
    {
      "cell_type": "markdown",
      "source": [
        "Question 1: What is a random variable in probability theory?\n",
        "\n",
        "Answer:\n",
        "A random variable is a function that assigns a numerical value to each outcome of a random experiment. It converts uncertain outcomes into numbers for analysis. For example, tossing a coin: let X = number of heads, then possible values are {0,1}.\n",
        "\n",
        "Question 2: What are the types of random variables?\n",
        "\n",
        "Answer:\n",
        "\n",
        "Discrete Random Variable: Takes countable values (e.g., number of children in a family).\n",
        "\n",
        "Continuous Random Variable: Takes uncountable values from an interval (e.g., height, weight).\n",
        "\n",
        "Sometimes there can also be mixed random variables (combining both).\n",
        "\n",
        "Question 3: Explain the difference between discrete and continuous distributions.\n",
        "\n",
        "Answer:\n",
        "\n",
        "Discrete distribution: Probability is given to each specific value. Represented by PMF (Probability Mass Function). Example: Binomial distribution.\n",
        "\n",
        "Continuous distribution: Probability is spread over an interval. Represented by PDF (Probability Density Function). Example: Normal distribution. Probability of exact value is 0, only intervals matter.\n",
        "\n",
        "Question 4: What is a binomial distribution, and how is it used in probability?\n",
        "\n",
        "Answer:\n",
        "The binomial distribution gives the probability of having exactly\n",
        "𝑘\n",
        "k successes in\n",
        "𝑛\n",
        "n independent trials, each with probability of success\n",
        "𝑝\n",
        "p.\n",
        "\n",
        "𝑃\n",
        "(\n",
        "𝑋\n",
        "=\n",
        "𝑘\n",
        ")\n",
        "=\n",
        "(\n",
        "𝑛\n",
        "𝑘\n",
        ")\n",
        "𝑝\n",
        "𝑘\n",
        "(\n",
        "1\n",
        "−\n",
        "𝑝\n",
        ")\n",
        "𝑛\n",
        "−\n",
        "𝑘\n",
        "P(X=k)=(\n",
        "k\n",
        "n\n",
        "\t​\n",
        "\n",
        ")p\n",
        "k\n",
        "(1−p)\n",
        "n−k\n",
        "\n",
        "Uses: defect rates in products, coin tossing, yes/no type experiments.\n",
        "\n",
        "Question 5: What is the standard normal distribution, and why is it important?\n",
        "\n",
        "Answer:\n",
        "The standard normal distribution is a normal distribution with mean = 0 and standard deviation = 1. Its curve is symmetric around 0.\n",
        "\n",
        "Importance:\n",
        "\n",
        "Any normal distribution can be converted to standard normal using\n",
        "𝑍\n",
        "=\n",
        "(\n",
        "𝑋\n",
        "−\n",
        "𝜇\n",
        ")\n",
        "/\n",
        "𝜎\n",
        "Z=(X−μ)/σ.\n",
        "\n",
        "Widely used for hypothesis testing, z-scores, and probability tables.\n",
        "\n",
        "Question 6: What is the Central Limit Theorem (CLT), and why is it critical in statistics?\n",
        "\n",
        "Answer:\n",
        "The Central Limit Theorem states that the sampling distribution of the sample mean\n",
        "𝑋\n",
        "ˉ\n",
        "X\n",
        "ˉ\n",
        " approaches a normal distribution as the sample size increases, regardless of the population’s distribution (if it has finite mean and variance).\n",
        "\n",
        "It is important because it allows us to use normal-based methods for inference (confidence intervals, hypothesis testing) even if the original data is not normal.\n",
        "\n",
        "Question 7: What is the significance of confidence intervals in statistical analysis?\n",
        "\n",
        "Answer:\n",
        "A confidence interval provides a range of plausible values for an unknown parameter.\n",
        "Example: A 95% CI for the mean tells us that if we repeat the experiment many times, about 95% of those intervals would capture the true population mean. It helps quantify uncertainty in estimates.\n",
        "\n",
        "Question 8: What is the concept of expected value in a probability distribution?\n",
        "\n",
        "Answer:\n",
        "The expected value is the long-run average of a random variable.\n",
        "\n",
        "For discrete random variables:\n",
        "\n",
        "𝐸\n",
        "[\n",
        "𝑋\n",
        "]\n",
        "=\n",
        "∑\n",
        "𝑥\n",
        "⋅\n",
        "𝑃\n",
        "(\n",
        "𝑋\n",
        "=\n",
        "𝑥\n",
        ")\n",
        "E[X]=∑x⋅P(X=x)\n",
        "\n",
        "For continuous random variables:\n",
        "\n",
        "𝐸\n",
        "[\n",
        "𝑋\n",
        "]\n",
        "=\n",
        "∫\n",
        "𝑥\n",
        "𝑓\n",
        "(\n",
        "𝑥\n",
        ")\n",
        "𝑑\n",
        "𝑥\n",
        "E[X]=∫xf(x)dx\n",
        "\n",
        "It represents the “center of mass” of the probability distribution."
      ],
      "metadata": {
        "id": "lAw7LY5y48Xq"
      }
    },
    {
      "cell_type": "markdown",
      "source": [
        "Question 9: Write a Python program to generate 1000 random numbers from a normal distribution with mean = 50 and standard deviation = 5. Compute its mean and standard deviation using NumPy, and draw a histogram to visualize the distribution."
      ],
      "metadata": {
        "id": "IB6jqglg5MwW"
      }
    },
    {
      "cell_type": "code",
      "source": [
        "import numpy as np\n",
        "import matplotlib.pyplot as plt\n",
        "\n",
        "# Generate 1000 random numbers from N(50, 5^2)\n",
        "np.random.seed(42)   # for reproducibility\n",
        "samples = np.random.normal(loc=50, scale=5, size=1000)\n",
        "\n",
        "# Compute mean and standard deviation\n",
        "sample_mean = np.mean(samples)\n",
        "sample_std = np.std(samples, ddof=1)   # sample standard deviation\n",
        "\n",
        "print(\"Sample size (n):\", len(samples))\n",
        "print(\"Sample mean:\", sample_mean)\n",
        "print(\"Sample standard deviation:\", sample_std)\n",
        "\n",
        "# Draw histogram\n",
        "plt.hist(samples, bins=30)\n",
        "plt.title(\"Histogram of 1000 samples from N(50, 5^2)\")\n",
        "plt.xlabel(\"Value\")\n",
        "plt.ylabel(\"Frequency\")\n",
        "plt.show()\n"
      ],
      "metadata": {
        "colab": {
          "base_uri": "https://localhost:8080/",
          "height": 524
        },
        "id": "gBTLVupe5Qrt",
        "outputId": "252c3087-5d12-4935-8b6a-fdf86e5ed2b8"
      },
      "execution_count": 1,
      "outputs": [
        {
          "output_type": "stream",
          "name": "stdout",
          "text": [
            "Sample size (n): 1000\n",
            "Sample mean: 50.096660279111624\n",
            "Sample standard deviation: 4.896079690898378\n"
          ]
        },
        {
          "output_type": "display_data",
          "data": {
            "text/plain": [
              "<Figure size 640x480 with 1 Axes>"
            ],
            "image/png": "[encoded data removed]"
          },
          "metadata": {}
        }
      ]
    },
    {
      "cell_type": "markdown",
      "source": [
        "Question 10: You are working as a data analyst for a retail company. The company has collected daily sales data for 2 years and wants you to identify the overall sales trend."
      ],
      "metadata": {
        "id": "eHllPf205i1v"
      }
    },
    {
      "cell_type": "code",
      "source": [
        "import numpy as np\n",
        "from math import sqrt\n",
        "from scipy import stats\n",
        "\n",
        "daily_sales = [220, 245, 210, 265, 230, 250, 260, 275, 240, 255,\n",
        "               235, 260, 245, 250, 225, 270, 265, 255, 250, 260]\n",
        "\n",
        "sales = np.array(daily_sales)\n",
        "n = len(sales)\n",
        "\n",
        "# Mean and standard deviation\n",
        "mean_sales = np.mean(sales)\n",
        "std_sales = np.std(sales, ddof=1)\n",
        "\n",
        "# Standard error\n",
        "se = std_sales / sqrt(n)\n",
        "\n",
        "# t critical value for 95% CI\n",
        "t_crit = stats.t.ppf(1 - 0.05/2, df=n-1)\n",
        "\n",
        "# Confidence interval\n",
        "ci_lower = mean_sales - t_crit * se\n",
        "ci_upper = mean_sales + t_crit * se\n",
        "\n",
        "print(\"Number of observations:\", n)\n",
        "print(\"Mean sales:\", mean_sales)\n",
        "print(\"Sample standard deviation:\", std_sales)\n",
        "print(\"Standard error:\", se)\n",
        "print(\"t critical value:\", t_crit)\n",
        "print(\"95% Confidence Interval: ({:.3f}, {:.3f})\".format(ci_lower, ci_upper))\n"
      ],
      "metadata": {
        "colab": {
          "base_uri": "https://localhost:8080/"
        },
        "id": "ttV_coih5oJ1",
        "outputId": "5e2bdcff-0819-4f38-e357-1b6c4effe8cb"
      },
      "execution_count": 2,
      "outputs": [
        {
          "output_type": "stream",
          "name": "stdout",
          "text": [
            "Number of observations: 20\n",
            "Mean sales: 248.25\n",
            "Sample standard deviation: 17.26534405284638\n",
            "Standard error: 3.860648295708623\n",
            "t critical value: 2.093024054408263\n",
            "95% Confidence Interval: (240.170, 256.330)\n"
          ]
        }
      ]
    }
  ]
}